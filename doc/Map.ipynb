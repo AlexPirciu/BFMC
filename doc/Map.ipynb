{
 "cells": [
  {
   "cell_type": "markdown",
   "metadata": {},
   "source": [
    "# Map representation\n",
    "In this notebook, we will explain the representation of the map.\n",
    "## Map\n",
    "The map is a description of the relationships between elements of some space. In our case, it has to provide information about the intersections and the streets. We use the map to represent the relationships between the streets in a digital format. The autonomous vehicles can get the possible paths from the start point to the goal by processing the map. You can see a simple example track on the following image:\n",
    "\n",
    "<img src=\"./images/Map/Map0.png\"  width=\"500\">"
   ]
  },
  {
   "cell_type": "markdown",
   "metadata": {},
   "source": [
    "The track need to be represented in a digital form for later processing. We used a graph based representation, where the vertexes are the some of possible robot positions on the track, the edges represent the relation between the vertexes. Our graph is an oriented graph, which has oriented relations between the vertexes. These orientation edges are shown the possible movement between two position. In general, the oriented edges are symbolized with arrow. In our case, a node (vertex) can have only eight relations, where four edges are input relations and the other four are outputs. The output relations of a node indicate the available nodes, where the robot can achieve by a single movement from the current node. The graph has role to memorize all possible movements, which are executable without crossing the marks between the lanes. So, we apply a set of data to define a node: an identification number, a coordination, an two list of edges. Later, we export these data structure into the file based on the JSON data format. So, a node will be described in same format like in the lines below:        "
   ]
  },
  {
   "cell_type": "code",
   "execution_count": 1,
   "metadata": {
    "scrolled": true
   },
   "outputs": [
    {
     "data": {
      "text/plain": [
       "{'NAME': 'NOD0',\n",
       " 'IN_BACK': 'NOD20',\n",
       " 'IN_RIGHT': 'none',\n",
       " 'IN_AHEAD': 'none',\n",
       " 'IN_LEFT': 'none',\n",
       " 'OUT_BACK': 'none',\n",
       " 'OUT_RIGHT': 'none',\n",
       " 'OUT_AHEAD': 'NOD9',\n",
       " 'OUT_LEFT': 'none',\n",
       " 'COORDINATES': [0.9, 1.8]}"
      ]
     },
     "execution_count": 1,
     "metadata": {},
     "output_type": "execute_result"
    }
   ],
   "source": [
    "{\"NAME\":\"NOD0\",\"IN_BACK\":\"NOD20\",\"IN_RIGHT\":\"none\",\"IN_AHEAD\":\"none\",\"IN_LEFT\":\"none\",\"OUT_BACK\":\"none\",\"OUT_RIGHT\":\"none\",\"OUT_AHEAD\":\"NOD9\",\"OUT_LEFT\":\"none\",\"COORDINATES\":[0.9,1.8]}"
   ]
  },
  {
   "cell_type": "markdown",
   "metadata": {},
   "source": [
    "The json data format is based on a dictionary data structure, where the first part is the key word and the second part contains the information. In our case, a node is built from ten pairs of data, where the 'NAME' key represents the identification name of the nodes. The 'COORDINATES' key marks the data field with the node's position, which is a pair of number (X and Y value in meter). The other keys indicate the relationship between the vertexes, which is presented on the picture below:"
   ]
  },
  {
   "cell_type": "markdown",
   "metadata": {},
   "source": [
    "<img src=\"./images/Map/Node1.png\"  width=\"300\" />"
   ]
  },
  {
   "cell_type": "markdown",
   "metadata": {},
   "source": [
    "In the json file the nodes are exported with two types of edges. The first type has the \"IN\" prefix word , which marks the input connections from the other nodes, the second type has the \"OUT\" word, these edges denote the output connections to the other nodes. In our case, each nodes can have four input and four output connections, where these are specified as \"Right\", \"Ahead\", \"Left\", \"Back\". The name of the relation is same for each node with the same order, like the picture above."
   ]
  },
  {
   "cell_type": "markdown",
   "metadata": {},
   "source": [
    "For creating a map, it's necessary to define the position of vertexes and the relationships. Firstly, for specifying the node's location, a mesh grid is projected on our map, where each cells are 0.45 meter dimensions. This mesh grid is shown on the first figure below. The intersections of the grid represent  the vertexes in our graph. After we define the position of all nodes, we create the connection between these. Finally, our graph is exported in the Json format and saved into the file. In the next photo is presented a simple track example, where the second figure shows the resulted graph:"
   ]
  },
  {
   "cell_type": "markdown",
   "metadata": {},
   "source": [
    "Initial map             |  Resulted graph\n",
    ":-------------------------:|:-------------------------:\n",
    "<img src=\"./images/Map/Map2.png\"  width=\"500\" />  |  <img src=\"./images/Map/Map4.png\"  width=\"450\" />"
   ]
  },
  {
   "cell_type": "markdown",
   "metadata": {},
   "source": [
    "## Intersection:\n",
    "\n",
    "\n",
    "In the case of the intersection the nodes are replicated for avoiding the no-regular situation, for example in our case a U-turn isn't allowed. It means, that an intersection cannot be represent by using only four nodes.\n"
   ]
  },
  {
   "cell_type": "markdown",
   "metadata": {},
   "source": [
    "<img src=\"./images/Map/Intersection_1.png\"  width=\"300\" />"
   ]
  },
  {
   "cell_type": "markdown",
   "metadata": {},
   "source": [
    "You can verify on the graph above, that a path exists from the Node 6 to the Node 2. In this case we use the Node 3, Node 4, Node 7,Node 8 to represent the intersection. The other nodes symbolize the four roads with two lane, if a path exists between the input and output nodes of a road, e.g. between the Node 10 and Node 11, then it means the vehicle can make an U-turn in the intersection. "
   ]
  },
  {
   "cell_type": "markdown",
   "metadata": {},
   "source": [
    "For avoiding the mentioned situation we create some additional nodes in the intersection with the same position like the existed nodes, but each new nodes have different relationships. The number of additional nodes depends on the number of road. When three roads cross each other, we need to add four nodes, in the case of four road eight additional nodes are necessary, two for each existed nodes in intersection. We add two new nodes for the Node 3, Node 4, Node 7 and Node 8. You can see the resulted graph on the picture below:"
   ]
  },
  {
   "cell_type": "markdown",
   "metadata": {},
   "source": [
    "<img src=\"./images/Map/Intersection_4R_0.png\"  width=\"500\" />"
   ]
  },
  {
   "cell_type": "markdown",
   "metadata": {},
   "source": [
    "The picture above presents a simple graph, where all possible paths are shown from an entry lane. The entry node is the Node 6 and the exit nodes are Node 10, Node 9 and Node 1. So the vehicle cannot find a path to Node 2 from Node 6, therefore it cannot make a U-turn. By creating the similar connections between the other nodes it results a graph, where the vehicle isn't capable to achieve a path with U-turn. Note the nodes with the similar name is the same position, they are shifted only on the presented graph."
   ]
  },
  {
   "cell_type": "markdown",
   "metadata": {},
   "source": [
    "Intersection with four roads             |  Intersection with three roads\n",
    ":-------------------------:|:-------------------------:\n",
    "<img src=\"./images/Map/Intersection_4R_1.png\"  width=\"450\" />  |  <img src=\"./images/Map/Intersection_3R_1.png\"  width=\"450\" />"
   ]
  },
  {
   "cell_type": "markdown",
   "metadata": {},
   "source": [
    "The picture above are presented two types of intersection, the first type has four entry nodes and four exit nodes. The second type of intersection has only three entry and three exit nodes."
   ]
  },
  {
   "cell_type": "markdown",
   "metadata": {},
   "source": [
    "__Note:__ The indexes of the additional nodes are continuously generated, hence these indexes follow the index of last initial node in the export Json file."
   ]
  }
 ],
 "metadata": {
  "kernelspec": {
   "display_name": "Python 3",
   "language": "python",
   "name": "python3"
  },
  "language_info": {
   "codemirror_mode": {
    "name": "ipython",
    "version": 3
   },
   "file_extension": ".py",
   "mimetype": "text/x-python",
   "name": "python",
   "nbconvert_exporter": "python",
   "pygments_lexer": "ipython3",
   "version": "3.6.1"
  }
 },
 "nbformat": 4,
 "nbformat_minor": 2
}
